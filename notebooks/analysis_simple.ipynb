{
 "cells": [
  {
   "cell_type": "markdown",
   "metadata": {},
   "source": [
    "# 🚀 Trader Performance vs Market Sentiment Analysis\n",
    "\n",
    "## Quick Analysis of Bitcoin Trader Behavior\n",
    "\n",
    "This notebook provides a streamlined analysis of the trader sentiment data."
   ]
  },
  {
   "cell_type": "code",
   "execution_count": null,
   "metadata": {},
   "outputs": [],
   "source": [
    "# Import required libraries\n",
    "import pandas as pd\n",
    "import numpy as np\n",
    "import matplotlib.pyplot as plt\n",
    "import seaborn as sns\n",
    "import warnings\n",
    "warnings.filterwarnings('ignore')\n",
    "\n",
    "# Set plotting style\n",
    "plt.style.use('default')\n",
    "sns.set_palette(\"husl\")\n",
    "plt.rcParams['figure.figsize'] = (12, 8)\n",
    "\n",
    "print(\"✅ Libraries imported successfully\")"
   ]
  },
  {
   "cell_type": "code",
   "execution_count": null,
   "metadata": {},
   "outputs": [],
   "source": [
    "# Load the preprocessed data\n",
    "try:\n",
    "    df = pd.read_csv('../data/merged_trader_sentiment_data.csv')\n",
    "    print(f\"Dataset loaded successfully!\")\n",
    "    print(f\"Shape: {df.shape}\")\n",
    "    print(f\"Date range: {df['merge_date'].min()} to {df['merge_date'].max()}\")\nexcept FileNotFoundError:\n",
    "    print(\"❌ Data file not found. Please run the preprocessing first:\")\n",
    "    print(\"python src/preprocessing.py\")"
   ]
  },
  {
   "cell_type": "code",
   "execution_count": null,
   "metadata": {},
   "outputs": [],
   "source": [
    "# Quick analysis of sentiment distribution\n",
    "if 'df' in locals():\n",
    "    print(\"📊 Sentiment Distribution:\")\n",
    "    sentiment_counts = df['sentiment_binary'].value_counts()\n",
    "    print(sentiment_counts)\n",
    "    \n",
    "    print(\"\\n💰 Average PnL by Sentiment:\")\n",
    "    avg_pnl = df.groupby('sentiment_binary')['closed_pnl'].mean()\n",
    "    for sentiment, pnl in avg_pnl.items():\n",
    "        print(f\"{sentiment}: ${pnl:.2f}\")"
   ]
  },
  {
   "cell_type": "code",
   "execution_count": null,
   "metadata": {},
   "outputs": [],
   "source": [
    "# Create a simple visualization\n",
    "if 'df' in locals():\n",
    "    fig, (ax1, ax2) = plt.subplots(1, 2, figsize=(15, 6))\n",
    "    \n",
    "    # Sentiment distribution\n",
    "    sentiment_counts.plot(kind='bar', ax=ax1, color=['red', 'green', 'orange'])\n",
    "    ax1.set_title('Trading Volume by Sentiment')\n",
    "    ax1.set_xlabel('Sentiment')\n",
    "    ax1.set_ylabel('Number of Trades')\n",
    "    ax1.tick_params(axis='x', rotation=45)\n",
    "    \n",
    "    # Average PnL by sentiment\n",
    "    avg_pnl.plot(kind='bar', ax=ax2, color=['red', 'green', 'orange'])\n",
    "    ax2.set_title('Average PnL by Sentiment')\n",
    "    ax2.set_xlabel('Sentiment')\n",
    "    ax2.set_ylabel('Average PnL ($)')\n",
    "    ax2.tick_params(axis='x', rotation=45)\n",
    "    ax2.axhline(y=0, color='black', linestyle='--', alpha=0.5)\n",
    "    \n",
    "    plt.tight_layout()\n",
    "    plt.show()\n",
    "    \n",
    "    print(\"🎯 Key Finding:\")\n",
    "    if avg_pnl['Greed'] > avg_pnl['Fear']:\n",
    "        difference = avg_pnl['Greed'] - avg_pnl['Fear']\n",
    "        percentage = (difference / avg_pnl['Fear']) * 100\n",
    "        print(f\"Greed periods generate ${difference:.2f} more profit per trade ({percentage:.1f}% improvement)\")"
   ]
  },
  {
   "cell_type": "code",
   "execution_count": null,
   "metadata": {},
   "outputs": [],
   "source": [
    "# Statistical significance test\n",
    "if 'df' in locals():\n",
    "    from scipy.stats import ttest_ind\n",
    "    \n",
    "    fear_pnl = df[df['sentiment_binary'] == 'Fear']['closed_pnl']\n",
    "    greed_pnl = df[df['sentiment_binary'] == 'Greed']['closed_pnl']\n",
    "    \n",
    "    t_stat, p_value = ttest_ind(fear_pnl, greed_pnl, equal_var=False)\n",
    "    \n",
    "    print(\"🧪 Statistical Test Results:\")\n",
    "    print(f\"Fear mean PnL: ${fear_pnl.mean():.2f}\")\n",
    "    print(f\"Greed mean PnL: ${greed_pnl.mean():.2f}\")\n",
    "    print(f\"t-statistic: {t_stat:.4f}\")\n",
    "    print(f\"p-value: {p_value:.10f}\")\n",
    "    \n",
    "    if p_value < 0.05:\n",
    "        print(\"✅ STATISTICALLY SIGNIFICANT difference between Fear and Greed periods!\")\n",
    "    else:\n",
    "        print(\"❌ No statistically significant difference found.\")"
   ]
  },
  {
   "cell_type": "markdown",
   "metadata": {},
   "source": [
    "## 📋 Summary\n",
    "\n",
    "This simplified analysis demonstrates:\n",
    "\n",
    "1. **Data Loading**: Successfully loads the preprocessed dataset\n",
    "2. **Quick Analysis**: Shows sentiment distribution and average PnL\n",
    "3. **Visualization**: Creates simple but effective charts\n",
    "4. **Statistical Testing**: Validates findings with hypothesis testing\n",
    "\n",
    "For the complete analysis, see the full notebook or reports folder."
   ]
  }
 ],
 "metadata": {
  "kernelspec": {
   "display_name": "Python 3 (ipykernel)",
   "language": "python",
   "name": "python3"
  },
  "language_info": {
   "codemirror_mode": {
    "name": "ipython",
    "version": 3
   },
   "file_extension": ".py",
   "mimetype": "text/x-python",
   "name": "python",
   "nbconvert_exporter": "python",
   "pygments_lexer": "ipython3",
   "version": "3.7.13"
  }
 },
 "nbformat": 4,
 "nbformat_minor": 4
}