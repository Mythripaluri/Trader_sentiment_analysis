{
 "cells": [
  {
   "cell_type": "markdown",
   "metadata": {},
   "source": [
    "# 🚀 Trader Performance vs Market Sentiment Analysis\n",
    "\n",
    "## Comprehensive Analysis of Bitcoin Trader Behavior and Market Fear/Greed Cycles\n",
    "\n",
    "**Project Overview:**\n",
    "This notebook presents a comprehensive data analysis exploring how Bitcoin market sentiment (Fear/Greed Index) affects trader performance using historical trading data from Hyperliquid. The goal is to uncover correlations, behavioral patterns, and insights that can guide smarter trading strategies under different sentiment conditions.\n",
    "\n",
    "**Key Questions:**\n",
    "- Do traders perform differently during Fear vs Greed market cycles?\n",
    "- How does leverage usage change with market sentiment?\n",
    "- Are there statistical differences in win rates across sentiment phases?\n",
    "- What behavioral patterns emerge during extreme market conditions?\n",
    "\n",
    "---"
   ]
  },
  {
   "cell_type": "markdown",
   "metadata": {},
   "source": [
    "## 📊 Data Sources\n",
    "\n",
    "1. **Historical Trader Data (Hyperliquid)**: 211,224 trading records\n",
    "2. **Bitcoin Fear/Greed Index**: 2,644 daily sentiment readings from 2018-2025\n",
    "\n",
    "### Final Dataset Statistics:\n",
    "- **184,263** trading records with matched sentiment data\n",
    "- **32** unique trader accounts\n",
    "- **Date Range**: March 28, 2023 to February 19, 2025\n",
    "- **Total Volume**: $880,912,169.43\n",
    "\n",
    "---"
   ]
  },
  {
   "cell_type": "code",
   "execution_count": null,
   "metadata": {},
   "outputs": [],
   "source": [
    "# Import required libraries\n",
    "import pandas as pd\n",
    "import numpy as np\n",
    "import matplotlib.pyplot as plt\n",
    "import seaborn as sns\n",
    "import plotly.express as px\n",
    "import plotly.graph_objects as go\n",
    "from plotly.subplots import make_subplots\n",
    "from scipy import stats\n",
    "from scipy.stats import ttest_ind, mannwhitneyu, chi2_contingency\n",
    "from statsmodels.stats.proportion import proportions_ztest\n",
    "import warnings\n",
    "warnings.filterwarnings('ignore')\n",
    "\n",
    "# Set plotting style\n",
    "plt.style.use('default')\n",
    "sns.set_palette(\"husl\")\n",
    "plt.rcParams['figure.figsize'] = (12, 8)\n",
    "plt.rcParams['font.size'] = 10\n",
    "sns.set_style(\"whitegrid\")\n",
    "\n",
    "print(\"✅ Libraries imported successfully\")"
   ]
  }
 ],
 "metadata": {
  "kernelspec": {
   "display_name": "Python 3 (ipykernel)",
   "language": "python",
   "name": "python3"
  },
  "language_info": {
   "codemirror_mode": {
    "name": "ipython",
    "version": 3
   },
   "file_extension": ".py",
   "mimetype": "text/x-python",
   "name": "python",
   "nbconvert_exporter": "python",
   "pygments_lexer": "ipython3",
   "version": "3.7.13"
  }
 },
 "nbformat": 4,
 "nbformat_minor": 4
}
